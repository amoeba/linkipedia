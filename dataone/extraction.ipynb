{
 "cells": [
  {
   "cell_type": "code",
   "execution_count": 4,
   "metadata": {
    "collapsed": true
   },
   "outputs": [],
   "source": [
    "data_url = 'https://raw.githubusercontent.com/DataONEorg/semantic-query/master/lib/test_corpus_E_id_list.txt'\n",
    "dataset_service_url = 'https://cn.dataone.org/cn/v1/query/solr/?wt=json&fl=title,abstract,attribute&q=identifier:\"%s\"'\n",
    "service_url = 'http://localhost:8080/annotate/annotate/'\n",
    "\n",
    "measurement = URIRef('http://purl.dataone.org/odo/ECSO_00000039')\n",
    "entity = URIRef('http://purl.dataone.org/odo/ECSO_00000525')\n",
    "unit = URIRef('http://purl.obolibrary.org/obo/UO_0000000')\n",
    "quality = URIRef('http://purl.obolibrary.org/obo/PATO_0000001')\n",
    "\n",
    "oboe = Namespace('http://ecoinformatics.org/oboe/oboe.1.0/oboe-core.owl#')\n",
    "cmo = Namespace('http://purl.org/twc/ontologies/cmo.owl#')\n",
    "skos = Namespace('http://www.w3.org/2004/02/skos/core#')\n",
    "_prefix = Namespace('http://purl.dataone.org/odo/ECSTRA_')"
   ]
  },
  {
   "cell_type": "code",
   "execution_count": 5,
   "metadata": {
    "collapsed": false
   },
   "outputs": [],
   "source": [
    "import csv, urllib, json, urllib2\n",
    "import pandas as pd\n",
    "from rdflib.extras.infixowl import *\n",
    "import collections\n",
    "import json\n",
    "import base64\n",
    "import random\n",
    "import datetime\n",
    "import requests\n",
    "from rdflib.compare import to_isomorphic\n",
    "\n",
    "datasets = urllib2.urlopen(data_url).read().split(\"\\n\")[1:]\n",
    "\n",
    "def get_dataset_columns(identifier):\n",
    "    url = dataset_service_url%identifier\n",
    "    result = json.loads(urllib2.urlopen(url).read())['response']['docs'][0]['attribute']\n",
    "    return result\n",
    "\n",
    "nt_file = '/Users/jimmccusker/src/linkipedia/dataone-index/NTriple/merged.nt'\n",
    "from rdflib import *\n",
    "\n",
    "graph = ConjunctiveGraph(store='Sleepycat')\n",
    "graph.open('ontology_db', create = True)\n",
    "\n",
    "def extract_mentions(text):\n",
    "    urls = collections.defaultdict(float)\n",
    "    params = {\n",
    "        'numResult':20,\n",
    "        'minScore':1,\n",
    "        'query':text\n",
    "    }\n",
    "    response = requests.get(service_url, params=params).json()\n",
    "    for r in response['results']:\n",
    "        urls[r['annotations'][0]['url']] += float(r['annotations'][0]['score'])\n",
    "    urls = [URIRef(url) for url, score in sorted(urls.items(), key=lambda x: x[1])]\n",
    "    return urls\n",
    "\n",
    "def create_id():\n",
    "    return base64.urlsafe_b64encode(bytes(random.random()*datetime.datetime.now().toordinal())).rstrip(\"=\")\n",
    "\n",
    "def canonicalize(resource):\n",
    "    digest = to_isomorphic(resource.graph).graph_digest()\n",
    "    #canonical = list(iso[:RDFS.label:resource.label()])[0]\n",
    "    #print str(canonical), '\\n', iso.serialize(format='turtle')\n",
    "    skolemized = _prefix[str(digest)]\n",
    "    for s, p, o in resource.graph.triples((None, None, resource.identifier)):\n",
    "        resource.graph.remove((s, p, o))\n",
    "        resource.graph.add((s, p, skolemized))\n",
    "    for s, p, o in resource.graph.triples((resource.identifier, None, None)):\n",
    "        resource.graph.remove((s, p, o))\n",
    "        resource.graph.add((skolemized, p, o))\n",
    "    return resource.graph.resource(skolemized)\n",
    "                \n",
    "def create_class_uri():\n",
    "    return _prefix[create_id()]\n",
    "\n",
    "def by_super_class(resources):\n",
    "    result = collections.defaultdict(list)\n",
    "    for r in resources:\n",
    "        for s in graph.transitive_objects(URIRef(r),RDFS.subClassOf):\n",
    "            result[s].append(r)\n",
    "    return result\n",
    "\n",
    "def create_class(text, g, prefix=_prefix):\n",
    "    try:\n",
    "        resources = list(extract_mentions(text))\n",
    "    except:\n",
    "        print 'Error processing \"', text, '\".'\n",
    "        return\n",
    "    by_super = by_super_class(resources)\n",
    "    result = graph.resource(measurement)\n",
    "    used = set()\n",
    "        \n",
    "    if measurement in by_super:\n",
    "        result = graph.resource(by_super[measurement][0])\n",
    "        used.add(result.identifier)\n",
    "    elif quality in by_super:\n",
    "        subgraph = Graph()\n",
    "        characteristic = by_super[quality][0]\n",
    "        used.add(characteristic)\n",
    "        super_classes = [Class(result.identifier, graph=subgraph)]\n",
    "        c = Class(BNode(), graph=subgraph)\n",
    "        c.subClassOf = super_classes\n",
    "        equiv = Class(result.identifier, graph=subgraph) & (Property(oboe.ofCharacteristic, graph=subgraph) | only | \n",
    "                                          Class(characteristic, graph=subgraph))\n",
    "        label = graph.label(characteristic)\n",
    "        subgraph.add((c.identifier, RDFS.label, Literal(label)))\n",
    "        c.equivalentClass = [equiv]\n",
    "        skolemized = canonicalize(subgraph.resource(c.identifier))\n",
    "        g += subgraph\n",
    "        result = g.resource(skolemized.identifier)        \n",
    "\n",
    "    if unit in by_super:\n",
    "        subgraph = Graph()\n",
    "        uom = by_super[unit][0]\n",
    "        used.add(uom)\n",
    "        super_classes = [Class(result.identifier, graph=subgraph)]\n",
    "        c = Class(BNode(), graph=subgraph)\n",
    "        c.subClassOf = super_classes\n",
    "        equiv = Class(result.identifier, graph=subgraph) & (Property(oboe.hasUnit, graph=subgraph) | only | \n",
    "                                          Class(uom, graph=subgraph))\n",
    "        label = '%s in %s' % (result.label(), graph.label(uom))\n",
    "        subgraph.add((c.identifier, RDFS.label, Literal(label)))\n",
    "        c.equivalentClass = [equiv]\n",
    "        skolemized = canonicalize(subgraph.resource(c.identifier))\n",
    "        g += subgraph\n",
    "        result = g.resource(skolemized.identifier)\n",
    "        \n",
    "    if entity in by_super:\n",
    "        subgraph = Graph()\n",
    "        entity_class = by_super[entity][0]\n",
    "        used.add(entity_class)\n",
    "        super_classes = [Class(result.identifier, graph=subgraph)]\n",
    "        c = Class(BNode(), graph=subgraph)\n",
    "        c.subClassOf = super_classes\n",
    "        equiv = Class(result.identifier, graph=subgraph) & (Property(oboe.measurementFor, graph=subgraph) | only | \n",
    "                                          (Property(oboe.ofEntity, graph=subgraph) | only | \n",
    "                                           Class(entity_class, graph=subgraph)))\n",
    "        label = '%s %s' % (graph.label(entity_class), result.label())\n",
    "        subgraph.add((c.identifier, RDFS.label, Literal(label)))\n",
    "        c.equivalentClass = [equiv]\n",
    "        skolemized = canonicalize(subgraph.resource(c.identifier))\n",
    "        g += subgraph\n",
    "        result = g.resource(skolemized.identifier)\n",
    "\n",
    "    result.add(skos.example, Literal(text))\n",
    "    return g.resource(result.identifier)    \n",
    "\n",
    "import ipywidgets \n",
    "from IPython.display import display\n",
    "\n",
    "def extract(datasets):\n",
    "    f = ipywidgets.FloatProgress(min=0, max=len(datasets))\n",
    "    ftext = ipywidgets.Text(value='0', description='%')\n",
    "    display(f)\n",
    "    display(ftext)\n",
    "    result_graph = Graph()\n",
    "    result_graph.parse(data='''\n",
    "    @prefix owl: <http://www.w3.org/2002/07/owl#>.\n",
    "    <https://purl.org/dataone/ontologies/observation/ecstra.owl> a owl:Ontology;\n",
    "        owl:imports <https://purl.org/dataone/ontologies/observation/d1-ECSO.owl>.''', format=\"turtle\")\n",
    "    i = 0\n",
    "    for dataset in datasets:\n",
    "        try:\n",
    "            columns = get_dataset_columns(dataset)\n",
    "        except:\n",
    "            print \"Problem processing the dataset '\", dataset, \"'.\"\n",
    "            continue\n",
    "        for column in columns:\n",
    "            create_class(column, result_graph)\n",
    "        i += 1\n",
    "        ftext.value = str(100 * float(i)/len(datasets))\n",
    "        f.value = i\n",
    "    return result_graph\n"
   ]
  },
  {
   "cell_type": "code",
   "execution_count": 6,
   "metadata": {
    "collapsed": true
   },
   "outputs": [],
   "source": [
    "graph.remove((None,None,None))\n",
    "graph.load(nt_file, format=\"n3\")\n",
    "graph.commit()"
   ]
  },
  {
   "cell_type": "code",
   "execution_count": 9,
   "metadata": {
    "collapsed": false
   },
   "outputs": [
    {
     "name": "stdout",
     "output_type": "stream",
     "text": [
      "1227\n",
      "Problem processing the dataset '  the General Public Usedu/package/metadata/eml/ecotrends/1539/2 '.\n",
      "Problem processing the dataset ' n      /pasta.lternet.edu/package/metadata/eml/ecotrends/3203/2 '.\n",
      "Problem processing the dataset ' ements  Datasets released by EcoTrends will be accompads/10961/2 '.\n",
      "Problem processing the dataset ' 7f0ae582-586f-4ff9-a027-b5aa6053d435-20140826_15_PBR1.xml '.\n",
      "Problem processing the dataset ' f513f938-8547-4738-a31c-024d265b3ce3-CLM4VIC_SG1_Monthly_SWnet.nc4.fgdc.xml '.\n",
      "Problem processing the dataset ' 83318869-55b8-46d3-bd71-c42e29c69098-ISAM_SG1_Monthly_SWE.nc4.fgdc.xml '.\n",
      "Problem processing the dataset ' e2543d1b-c3f1-43e8-91d3-70bf5f4df85d-DLEM_SG2_Monthly_TotalResp.nc4.fgdc.xml '.\n",
      "Problem processing the dataset ' 0da25041-0bf6-4b0e-99dd-a999ff8bcbf8-BIOME-BGC_BG1_Monthly_TotLivBiom.nc4.fgdc.xml '.\n",
      "Problem processing the dataset ' 1e1649b8-2c43-4947-afda-c2ccdc54229d-CLM4_SG2_Monthly_NPP.nc4.fgdc.xml '.\n",
      "Problem processing the dataset ' 27221852-3258-4018-8ee3-eb11a9874adc-CLASS-CTEM-N_SG2_Monthly_AbvGrndWood.nc4.fgdc.xml '.\n",
      "Problem processing the dataset ' 6e5a0065-dd8c-44de-9946-fb2cf67326bd-SiB3_SG1_Monthly_HeteroResp.nc4.fgdc.xml '.\n",
      "Problem processing the dataset ' d51b3a7e-a957-42be-aa6c-7cad4506fa12-VISIT_SG3_Monthly_HeteroResp.nc4.fgdc.xml '.\n",
      "Problem processing the dataset ' 6522a1d1-ab4c-4878-b9cb-4ec485348dd8-CLASS-CTEM-N_SG1_Monthly_Veg.nc4.fgdc.xml '.\n",
      "Problem processing the dataset ' e4ee5353-045a-4368-a4c9-8913e3b8102d-BIOME-BGC_RG1_Monthly_Fire_flux.nc4.fgdc.xml '.\n",
      "Problem processing the dataset ' b9a73d04-40d4-418b-bf81-efec3011c6ec-ORCHIDEE-LSCE_SG3_Monthly_NEE.nc4.fgdc.xml '.\n",
      "Problem processing the dataset ' c89a94e8-58b0-48cb-8561-d0c0f2a85cce-CLM4VIC_SG3_Monthly_TotLivBiom.nc4.fgdc.xml '.\n",
      "Problem processing the dataset ' 87d2840f-f829-4a84-8a1f-45e19ff030d9-TRIPLEX-GHG_RG1_Annual_CarbPools.nc4.fgdc.xml '.\n",
      "Problem processing the dataset ' 3924fe87-1ae8-45ac-bd0d-7325326d726d-ISAM_BG1_Monthly_Qh.nc4.fgdc.xml '.\n",
      "Problem processing the dataset ' 326c9132-594e-4331-b83c-9265c60dbdd2-ORCHIDEE-LSCE_SG3_Monthly_SWdown.nc4.fgdc.xml '.\n",
      "Problem processing the dataset ' 63e607e8-ddd7-46ce-95c9-71abe86c84e6-BIOME-BGC_BG1_Monthly_TotalResp.nc4.fgdc.xml '.\n",
      "Problem processing the dataset ' 375cc75c-d1ba-4898-9f0c-d6128155202c-DLEM_SG1_Monthly_NEE.nc4.fgdc.xml '.\n",
      "Problem processing the dataset ' 9db99240-74d4-4f6b-92e6-671f12363e8d-CLASS-CTEM-N_SG1_Monthly_AutoResp.nc4.fgdc.xml '.\n",
      "Problem processing the dataset ' 771f9ff9-c6f9-4d15-8575-f6f6a3419064-LPJ-wsl_SG2_Monthly_NEP.nc4.fgdc.xml '.\n",
      "Problem processing the dataset ' 61bc100d-2b31-4760-bf4a-29e96cef008a-CLASS-CTEM-N_SG3_Monthly_Qle.nc4.fgdc.xml '.\n",
      "Problem processing the dataset ' 8068a48c-77f3-4949-8b8a-8c104c688ffa-CLM4VIC_SG1_Monthly_Fire_flux.nc4.fgdc.xml '.\n",
      "Problem processing the dataset ' 9aa1663d-64f3-4313-8330-800907947496-GTEC_RG1_Monthly_TotalResp.nc4.fgdc.xml '.\n",
      "Problem processing the dataset ' 79daedd1-f749-4305-81a5-9eb11b37e8bd-CLM4VIC_RG1_Monthly_SWdown.nc4.fgdc.xml '.\n",
      "Problem processing the dataset ' ea9ac67f-e814-4ccc-bf74-8fc89e93fe97-CLM4VIC_RG1_Monthly_SnowDepth.nc4.fgdc.xml '.\n",
      "Problem processing the dataset ' 191487f4-a639-44d2-b736-0bd7e609ada5-GTEC_SG2_Monthly_SoilMoist.nc4.fgdc.xml '.\n",
      "Problem processing the dataset ' 35b0d442-f8af-4319-a464-3741937a0abe-ISAM_SG1_Monthly_Veg.nc4.fgdc.xml '.\n",
      "Problem processing the dataset ' 20cc0ffb-0fb2-4b26-bbcc-9b21f192fad4-BIOME-BGC_SG1_Monthly_HeteroResp.nc4.fgdc.xml '.\n",
      "Problem processing the dataset ' b0b06031-1fe6-4ef1-8a07-244b3016b694-ORCHIDEE-LSCE_SG2_Monthly_CarbPools03_cLeaf.nc4.fgdc.xml '.\n",
      "Problem processing the dataset ' 629671d7-aebe-4851-bc33-91288eec33a9-ORCHIDEE-LSCE_RG1_Monthly_SWdown.nc4.fgdc.xml '.\n",
      "Problem processing the dataset ' 16ac381b-0e5d-4931-a775-424feff3f697-CLM4_BG1_Monthly_Fire_flux.nc4.fgdc.xml '.\n",
      "Problem processing the dataset ' 594510a9-04c0-4dd3-9c4b-c108c29a644a-CLASS-CTEM-N_SG3_Monthly_GPP.nc4.fgdc.xml '.\n",
      "Problem processing the dataset ' 3f9ff403-b6a3-4b98-a899-d4f1bdf73ce5-SiB3_SG3_Monthly_NEE.nc4.fgdc.xml '.\n",
      "Problem processing the dataset ' 1234c8b8-eaea-4fb6-b526-2220249b5cda-CLM4_SG2_Monthly_GPP.nc4.fgdc.xml '.\n",
      "Problem processing the dataset ' 2043c01f-f3f0-4bd7-ad3a-bb3c8074df57-VEGAS2.1_RG1_Monthly_NEP.nc4.fgdc.xml '.\n",
      "Problem processing the dataset ' ed7dcc59-93ed-461e-a2a1-ad8f7738837c-VISIT_SG1_Monthly_TotalResp.nc4.fgdc.xml '.\n",
      "Problem processing the dataset ' 450ec7eb-8e8a-447f-b420-83f535503e3d-CLM4_SG1_Monthly_AutoResp.nc4.fgdc.xml '.\n",
      "Problem processing the dataset ' 8bda695c-723b-4955-af43-fd3e45215dff-TRIPLEX-GHG_BG1_Monthly_Qair.nc4.fgdc.xml '.\n",
      "Problem processing the dataset ' cc4d50de-1176-4919-bad0-750dabb6aa5f-ORCHIDEE-LSCE_SG1_Monthly_CarbPools04_cLitter_Wood_AB.nc4.fgdc.xml '.\n",
      "Problem processing the dataset ' 88605b26-4cf9-4288-8c0b-b9bb34fb5c3b-SiB3_SG2_Monthly_HeteroResp.nc4.fgdc.xml '.\n",
      "Problem processing the dataset ' Acceptanpasta.lternet.edu/package/metadata/eml/ecotrends/2844/2 '.\n",
      "Problem processing the dataset ' Accepta/pasta.lternet.edu/package/metadata/eml/ecotrends/2981/2 '.\n",
      "Problem processing the dataset ' Accepta/pasta.lternet.edu/package/metadata/eml/ecotrends/1650/2 '.\n",
      "Problem processing the dataset ' Acceptapasta.lternet.edu/package/metadata/eml/ecotrends/2325/2 '.\n",
      "Problem processing the dataset ' cceptan/pasta.lternet.edu/package/metadata/eml/ecotrends/3225/2 '.\n",
      "Problem processing the dataset ' bdaaa397-d923-4747-9a49-0edb604660c4-VEGAS2.1_RG1_Monthly_TotalResp.nc4.fgdc.xml '.\n",
      "Problem processing the dataset ' fc8d0e2b-2865-4ccf-b2f8-567470a1483b-LPJ-wsl_SG1_Monthly_LAI_BONE.nc4.fgdc.xml '.\n",
      "Problem processing the dataset ' de16e966-cd3e-4e2f-a82e-00ac9eae5cf2-CLASS-CTEM-N_BG1_Monthly_Evap.nc4.fgdc.xml '.\n",
      "Problem processing the dataset ' a54683b9-1a2e-4d5a-b49a-e645b44ecbae-CLASS-CTEM-N_SG1_Monthly_Evap.nc4.fgdc.xml '.\n",
      "Problem processing the dataset ' a8697633-9256-4439-9718-c80e19ee8ca6-CLM4_BG1_Monthly_z_node.nc4.fgdc.xml '.\n",
      "Problem processing the dataset ' a0195a73-5014-4547-82fe-9720e56e7fea-SiBCASA_RG1_Monthly_CarbPools.nc4.fgdc.xml '.\n",
      "Problem processing the dataset ' 50dac12e-013b-4d8e-a2be-e16a87ad9481-CLM4_SG3_Monthly_SnowDepth.nc4.fgdc.xml '.\n",
      "Problem processing the dataset ' f2fc28f6-f635-451e-8fc6-9495d89b2f81-CLASS-CTEM-N_SG1_Monthly_SW_albedo.nc4.fgdc.xml '.\n",
      "Problem processing the dataset ' 17b01bcf-2ba5-4772-96de-36a84d1b321c-ORCHIDEE-LSCE_SG2_Monthly_SoilWet_Lower.nc4.fgdc.xml '.\n",
      "Problem processing the dataset ' c8230444-5394-4b53-84d0-6356364f22fd-CLASS-CTEM-N_RG1_Monthly_SWnet.nc4.fgdc.xml '.\n",
      "Problem processing the dataset ' bc215ace-4f46-48fb-9c66-db00212be8cd-LPJ-wsl_SG3_Monthly_Qs.nc4.fgdc.xml '.\n",
      "Problem processing the dataset ' 0c15c345-98f3-4777-8719-4b8a6920c597-SiBCASA_SG3_Monthly_Lwnet.nc4.fgdc.xml '.\n",
      "Problem processing the dataset ' 6826baa7-2dbf-4453-abbd-e4e8627181dd-CLM4_SG1_Monthly_LWdown.nc4.fgdc.xml '.\n",
      "Problem processing the dataset ' 1d3c1875-52b8-47f0-8903-1144ca986b2a-ISAM_SG2_Monthly_NPP.nc4.fgdc.xml '.\n",
      "Problem processing the dataset ' d077e5d7-d624-439c-948c-ae910f9e5b3e-GTEC_SG3_Monthly_SoilWet.nc4.fgdc.xml '.\n",
      "Problem processing the dataset ' 5fce98e1-1ef9-4255-945a-3c4834ccfe11-CLM4VIC_SG2_Monthly_SoilTemp.nc4.fgdc.xml '.\n",
      "Problem processing the dataset ' 7826f1b1-47ad-4d07-b373-eb285899980e-CLM4_RG1_Monthly_Qsb.nc4.fgdc.xml '.\n",
      "Problem processing the dataset ' 869fa7ec-18e5-4eec-9597-0b41ee7352a7-SiB3_SG2_Monthly_Qs.nc4.fgdc.xml '.\n",
      "Problem processing the dataset ' 37d0d77a-51fd-4021-a559-06fa363c682a-CLM4VIC_BG1_Monthly_NEE.nc4.fgdc.xml '.\n",
      "Problem processing the dataset ' ef34a4ee-7ef0-44b7-bc59-cfcebe34be49-CLASS-CTEM-N_RG1_Monthly_NEP.nc4.fgdc.xml '.\n",
      "Problem processing the dataset ' ff8e1551-2365-4546-9e17-2226a127bed3-CLASS-CTEM-N_SG1_Monthly_LW_albedo.nc4.fgdc.xml '.\n",
      "Problem processing the dataset ' 8c2615b4-4049-4dd1-83b9-3e3c019a4743-VEGAS2.1_RG1_Monthly_Evap.nc4.fgdc.xml '.\n",
      "Problem processing the dataset ' d6396488-8738-4303-be11-5c39930d1b18-CLASS-CTEM-N_BG1_Monthly_NEE.nc4.fgdc.xml '.\n",
      "Problem processing the dataset ' 32433442-d13e-4549-adec-1e7dd9089d96-CLM4VIC_SG2_Monthly_TotSoilCarb.nc4.fgdc.xml '.\n",
      "Problem processing the dataset ' 6677c567-07c9-4df0-b491-a0389033a7c7-CLASS-CTEM-N_SG2_Monthly_Lwnet.nc4.fgdc.xml '.\n",
      "Problem processing the dataset ' d75372f3-41e4-4239-b00d-ea70e301255f-BIOME-BGC_SG1_Monthly_Veg.nc4.fgdc.xml '.\n",
      "Problem processing the dataset ' 720dc493-df22-4dc8-a4a5-8147f1f06111-CLM4_SG2_Monthly_Qsb.nc4.fgdc.xml '.\n",
      "Problem processing the dataset ' b3590504-2f96-4e09-9d0d-4093757d3921-DLEM_RG1_Monthly_GPP.nc4.fgdc.xml '.\n",
      "Problem processing the dataset ' d4a410b2-9be7-4422-b04a-106fd4a7fdaf-VISIT_SG2_Monthly_SWE.nc4.fgdc.xml '.\n",
      "Problem processing the dataset ' 923857b3-5263-4474-bf97-43994b8ed7b1-CLM4_RG1_Monthly_Fire_flux.nc4.fgdc.xml '.\n",
      "Problem processing the dataset '  '.\n",
      "Problem processing the dataset ' \"https://pasta.lternet.edu/package/metadata/eml/knb-lter-bnz/75/204 '.\n",
      "Problem processing the dataset ' \"https://pasta.lternet.edu/package/metadata/eml/knb-lter-bnz/122/18 '.\n",
      "Problem processing the dataset ' \"https://pasta.lternet.edu/package/metadata/eml/knb-lter-bnz/123/18 '.\n",
      "Problem processing the dataset ' \"https://pasta.lternet.edu/package/metadata/eml/knb-lter-bnz/428/14 '.\n",
      "Problem processing the dataset ' \"https://pasta.lternet.edu/package/metadata/eml/knb-lter-bnz/455/13 '.\n",
      "Problem processing the dataset ' \"https://pasta.lternet.edu/package/metadata/eml/knb-lter-and/3137/7 '.\n",
      "Problem processing the dataset ' \"https://pasta.lternet.edu/package/metadata/eml/knb-lter-and/3142/7 '.\n",
      "Problem processing the dataset ' \"https://pasta.lternet.edu/package/metadata/eml/knb-lter-bnz/190/20 '.\n",
      "Problem processing the dataset ' \"https://pasta.lternet.edu/package/metadata/eml/knb-lter-bnz/207/18 '.\n",
      "Problem processing the dataset ' \"https://pasta.lternet.edu/package/metadata/eml/knb-lter-sbc/21/15 '.\n",
      "Problem processing the dataset ' \"https://pasta.lternet.edu/package/metadata/eml/knb-lter-sbc/37/4 '.\n",
      "Problem processing the dataset ' \"https://pasta.lternet.edu/package/metadata/eml/knb-lter-sbc/55/2 '.\n",
      "Problem processing the dataset ' \"https://pasta.lternet.edu/package/metadata/eml/knb-lter-sbc/57/5 '.\n",
      "Problem processing the dataset ' \"https://pasta.lternet.edu/package/metadata/eml/knb-lter-sbc/58/7 '.\n",
      "Problem processing the dataset ' https://pasta.lternet.edu/package/metadata/eml/knb-lter-arc/10151/4 '.\n",
      "Problem processing the dataset ' https://pasta.lternet.edu/package/metadata/eml/knb-lter-arc/10150/5 '.\n",
      "Problem processing the dataset ' https://pasta.lternet.edu/package/metadata/eml/knb-lter-arc/1602/8 '.\n",
      "Problem processing the dataset '  '.\n"
     ]
    }
   ],
   "source": [
    "print len(datasets)\n",
    "extracted_graph = extract(datasets)\n",
    "with open(\"/Users/jimmccusker/Dropbox/Public/ecstra-unstemmed.ttl\",'wb') as out:\n",
    "    out.write(extracted_graph.serialize(format='turtle'))"
   ]
  },
  {
   "cell_type": "code",
   "execution_count": 34,
   "metadata": {
    "collapsed": false
   },
   "outputs": [],
   "source": [
    "x = {}"
   ]
  },
  {
   "cell_type": "code",
   "execution_count": 35,
   "metadata": {
    "collapsed": false
   },
   "outputs": [
    {
     "data": {
      "text/plain": [
       "[]"
      ]
     },
     "execution_count": 35,
     "metadata": {},
     "output_type": "execute_result"
    }
   ],
   "source": [
    "x.items()"
   ]
  },
  {
   "cell_type": "code",
   "execution_count": 50,
   "metadata": {
    "collapsed": false
   },
   "outputs": [
    {
     "data": {
      "text/plain": [
       "'https://pasta.lternet.edu/package/metadata/eml/ecotrends/5853/2'"
      ]
     },
     "execution_count": 50,
     "metadata": {},
     "output_type": "execute_result"
    }
   ],
   "source": [
    "datasets[0]"
   ]
  },
  {
   "cell_type": "code",
   "execution_count": 1,
   "metadata": {
    "collapsed": false
   },
   "outputs": [
    {
     "ename": "NameError",
     "evalue": "name 'SKOS' is not defined",
     "output_type": "error",
     "traceback": [
      "\u001b[0;31m---------------------------------------------------------------------------\u001b[0m",
      "\u001b[0;31mNameError\u001b[0m                                 Traceback (most recent call last)",
      "\u001b[0;32m<ipython-input-1-89e97a1e22b5>\u001b[0m in \u001b[0;36m<module>\u001b[0;34m()\u001b[0m\n\u001b[1;32m      1\u001b[0m \u001b[0;32mfrom\u001b[0m \u001b[0mrdflib\u001b[0m \u001b[0;32mimport\u001b[0m \u001b[0;34m*\u001b[0m\u001b[0;34m\u001b[0m\u001b[0m\n\u001b[0;32m----> 2\u001b[0;31m \u001b[0mSKOS\u001b[0m\u001b[0;34m\u001b[0m\u001b[0m\n\u001b[0m",
      "\u001b[0;31mNameError\u001b[0m: name 'SKOS' is not defined"
     ]
    }
   ],
   "source": [
    "from rdflib import *\n",
    "SKOS"
   ]
  },
  {
   "cell_type": "code",
   "execution_count": null,
   "metadata": {
    "collapsed": true
   },
   "outputs": [],
   "source": []
  }
 ],
 "metadata": {
  "kernelspec": {
   "display_name": "Python 2",
   "language": "python",
   "name": "python2"
  },
  "language_info": {
   "codemirror_mode": {
    "name": "ipython",
    "version": 2
   },
   "file_extension": ".py",
   "mimetype": "text/x-python",
   "name": "python",
   "nbconvert_exporter": "python",
   "pygments_lexer": "ipython2",
   "version": "2.7.10"
  }
 },
 "nbformat": 4,
 "nbformat_minor": 0
}
