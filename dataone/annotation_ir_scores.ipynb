{
 "cells": [
  {
   "cell_type": "code",
   "execution_count": 1,
   "metadata": {
    "collapsed": false
   },
   "outputs": [],
   "source": [
    "from rdflib import *\n",
    "\n",
    "manual_annotation_url = 'https://raw.githubusercontent.com/DataONEorg/semantic-query/master/lib/test_corpus_F_dev/manual_annotations.tsv.txt'\n",
    "data_url = 'https://raw.githubusercontent.com/DataONEorg/semantic-query/master/lib/test_corpus_E_id_list.txt'\n",
    "dataset_service_url = 'https://cn.dataone.org/cn/v1/query/solr/?wt=json&fl=title,abstract,attribute&q=identifier:\"%s\"'\n",
    "service_url = 'http://localhost:8080/annotate/annotate/'\n",
    "\n",
    "oboe = Namespace('http://ecoinformatics.org/oboe/oboe.1.1/oboe-core.owl#')\n",
    "cmo = Namespace('http://purl.org/twc/ontologies/cmo.owl#')\n",
    "skos = Namespace('http://www.w3.org/2004/02/skos/core#')\n",
    "_prefix = Namespace('http://purl.dataone.org/odo/ECSTRA_')\n"
   ]
  },
  {
   "cell_type": "code",
   "execution_count": 4,
   "metadata": {
    "collapsed": false
   },
   "outputs": [],
   "source": [
    "import csv, urllib, json, urllib2\n",
    "import pandas as pd\n",
    "from rdflib.extras.infixowl import *\n",
    "import collections\n",
    "import json\n",
    "import base64\n",
    "import random\n",
    "import datetime\n",
    "import requests\n",
    "from io import StringIO\n",
    "from rdflib.compare import to_isomorphic\n",
    "\n",
    "def get_manual_annotations():\n",
    "    resp = requests.get(manual_annotation_url)\n",
    "    annotations = [x for x in csv.DictReader(StringIO(resp.text,newline=None), delimiter=\"\\t\")]\n",
    "    resp.close()\n",
    "    result = collections.defaultdict(set)\n",
    "    for annotation in annotations:\n",
    "        if len(annotation['class_id_int'].strip()) == 0:\n",
    "            continue\n",
    "        package = annotation['pkg_id']\n",
    "        uri = 'http://purl.dataone.org/odo/ECSO_%08d'%int(annotation['class_id_int'].strip())\n",
    "        result[package].add(URIRef(uri))\n",
    "    return result\n",
    "\n",
    "#datasets = urllib2.urlopen(data_url).read().split(\"\\n\")[1:]\n",
    "\n",
    "def get_dataset_columns(identifier):\n",
    "    url = dataset_service_url%identifier\n",
    "    result = json.loads(urllib2.urlopen(url).read())['response']['docs'][0]['attribute']\n",
    "    return result\n",
    "\n",
    "nt_file = '/Users/jimmccusker/src/linkipedia/dataone-index/NTriple/merged.nt'\n",
    "from rdflib import *\n",
    "\n",
    "graph = ConjunctiveGraph()\n",
    "graph.load(open(nt_file),format=\"nt\")\n",
    "\n",
    "\n",
    "def extract_mentions(text, context):\n",
    "    urls = collections.defaultdict(float)\n",
    "    params = {\n",
    "        'numResult':numResult,\n",
    "        'minScore':minScore,\n",
    "        'contentWeight':contentWeight,\n",
    "        'relationWeight':relationWeight,\n",
    "    }\n",
    "    data = json.dumps({\n",
    "        'query':text,\n",
    "        'context':context\n",
    "    })\n",
    "    response = requests.post(service_url, params=params, data=data,\n",
    "                             headers={\"ContentType\":\"application/json\"}).json()\n",
    "    for r in response['results']:\n",
    "        for annotation in r['annotations']:\n",
    "            urls[annotation['url']] += float(annotation['score'])\n",
    "    urls = [URIRef(url) for url, score in sorted(urls.items(), key=lambda x: x[1])]\n",
    "    return urls\n",
    "\n",
    "import ipywidgets \n",
    "from IPython.display import display\n",
    "\n",
    "def by_super_class(resources):\n",
    "    result = collections.defaultdict(list)\n",
    "    for r in resources:\n",
    "        for s in graph.transitive_objects(URIRef(r),RDFS.subClassOf):\n",
    "            result[s].append(r)\n",
    "    return result\n",
    "\n",
    "def get_ir_tuples(annotations):\n",
    "    result = set()\n",
    "    for dataset, classes in annotations.items():\n",
    "        for c in classes:\n",
    "            result.add((dataset, c))\n",
    "    return result\n",
    "\n",
    "f = ipywidgets.FloatProgress(min=0, max=1)\n",
    "ftext = ipywidgets.Text(value='0', description='%')\n",
    "display(f)\n",
    "display(ftext)\n",
    "\n",
    "def extract(datasets):\n",
    "    i = 0\n",
    "    automated = collections.defaultdict(set)\n",
    "    for dataset in datasets:\n",
    "        try:\n",
    "            columns = get_dataset_columns(dataset)\n",
    "        except:\n",
    "            print \"Problem processing the dataset '\", dataset, \"'.\"\n",
    "            continue\n",
    "        for column in columns:\n",
    "            #try:\n",
    "            resources = list(extract_mentions(column, column))\n",
    "            by_super = by_super_class(resources)\n",
    "            classes = by_super[oboe.MeasurementType]\n",
    "            classes = classes[:topHits]\n",
    "            automated[dataset] |= set(classes)\n",
    "            #except:\n",
    "            #    print 'Error processing \"', column, '\".'\n",
    "        i += 1\n",
    "        ftext.value = str(100 * float(i)/len(datasets))\n",
    "        f.value = float(i)/len(datasets)\n",
    "    return automated\n"
   ]
  },
  {
   "cell_type": "code",
   "execution_count": 5,
   "metadata": {
    "collapsed": false
   },
   "outputs": [
    {
     "name": "stdout",
     "output_type": "stream",
     "text": [
      "0.170085979399\t0.361432706223\t0.231316931983\t20\t3\t20\t5\t5\n"
     ]
    },
    {
     "ename": "NameError",
     "evalue": "name 'precision' is not defined",
     "output_type": "error",
     "traceback": [
      "\u001b[0;31m---------------------------------------------------------------------------\u001b[0m",
      "\u001b[0;31mNameError\u001b[0m                                 Traceback (most recent call last)",
      "\u001b[0;32m<ipython-input-5-c6d0d92a7aa1>\u001b[0m in \u001b[0;36m<module>\u001b[0;34m()\u001b[0m\n\u001b[1;32m     33\u001b[0m             \u001b[0mrow\u001b[0m \u001b[0;34m=\u001b[0m \u001b[0mrun\u001b[0m\u001b[0;34m(\u001b[0m\u001b[0;34m)\u001b[0m\u001b[0;34m\u001b[0m\u001b[0m\n\u001b[1;32m     34\u001b[0m             \u001b[0;32mprint\u001b[0m \u001b[0;34m'\\t'\u001b[0m\u001b[0;34m.\u001b[0m\u001b[0mjoin\u001b[0m\u001b[0;34m(\u001b[0m\u001b[0;34m[\u001b[0m\u001b[0mstr\u001b[0m\u001b[0;34m(\u001b[0m\u001b[0mrow\u001b[0m\u001b[0;34m[\u001b[0m\u001b[0mh\u001b[0m\u001b[0;34m]\u001b[0m\u001b[0;34m)\u001b[0m \u001b[0;32mfor\u001b[0m \u001b[0mh\u001b[0m \u001b[0;32min\u001b[0m \u001b[0mscores\u001b[0m\u001b[0;34m.\u001b[0m\u001b[0mcolumns\u001b[0m\u001b[0;34m]\u001b[0m\u001b[0;34m)\u001b[0m\u001b[0;34m\u001b[0m\u001b[0m\n\u001b[0;32m---> 35\u001b[0;31m             scores = scores.append(dict(precision=precision, recall=recall, fmeasure=fmeasure, \n\u001b[0m\u001b[1;32m     36\u001b[0m                                         \u001b[0mnumResult\u001b[0m\u001b[0;34m=\u001b[0m\u001b[0mnumResult\u001b[0m\u001b[0;34m,\u001b[0m \u001b[0mminScore\u001b[0m\u001b[0;34m=\u001b[0m\u001b[0mminScore\u001b[0m\u001b[0;34m,\u001b[0m \u001b[0mtopHits\u001b[0m\u001b[0;34m=\u001b[0m\u001b[0mtopHits\u001b[0m\u001b[0;34m,\u001b[0m\u001b[0;34m\u001b[0m\u001b[0m\n\u001b[1;32m     37\u001b[0m                                         contentWeight=contentWeight, relationWeight=relationWeight),\n",
      "\u001b[0;31mNameError\u001b[0m: name 'precision' is not defined"
     ]
    }
   ],
   "source": [
    "numResult = 20\n",
    "minScore = 1\n",
    "topHits = 20\n",
    "contentWeight = 6\n",
    "relationWeight = 6\n",
    "\n",
    "scores = pd.DataFrame(columns=['precision','recall','fmeasure',\n",
    "                               'numResult','minScore','topHits',\n",
    "                               'contentWeight','relationWeight'])\n",
    "manual_annotations = get_manual_annotations()\n",
    "manual_tuples = get_ir_tuples(manual_annotations)\n",
    "\n",
    "def run():\n",
    "    automated_annotations = extract(manual_annotations.keys())\n",
    "    automated_tuples = get_ir_tuples(automated_annotations)\n",
    "    hits = manual_tuples & automated_tuples\n",
    "    misses = manual_tuples - automated_tuples\n",
    "\n",
    "    precision = float(len(hits))/len(automated_tuples)\n",
    "    recall = float(len(hits))/len(manual_tuples)\n",
    "    fmeasure = 2 * (precision * recall)/(precision + recall)\n",
    "    row = dict(precision=precision, recall=recall, fmeasure=fmeasure, \n",
    "               numResult=numResult, minScore=minScore, topHits=topHits, \n",
    "               contentWeight=contentWeight, relationWeight=relationWeight)\n",
    "    return row\n",
    "\n",
    "for cw in [5]:\n",
    "    contentWeight = cw\n",
    "    for rw in [5]:\n",
    "        relationWeight = rw\n",
    "        for ms in [3]:\n",
    "            minScore = ms\n",
    "            row = run()\n",
    "            print '\\t'.join([str(row[h]) for h in scores.columns])\n",
    "            scores = scores.append(row,\n",
    "                                   ignore_index=True)\n",
    "\n",
    "scores"
   ]
  },
  {
   "cell_type": "code",
   "execution_count": 26,
   "metadata": {
    "collapsed": false
   },
   "outputs": [
    {
     "data": {
      "text/html": [
       "<div>\n",
       "<table border=\"1\" class=\"dataframe\">\n",
       "  <thead>\n",
       "    <tr style=\"text-align: right;\">\n",
       "      <th></th>\n",
       "      <th>precision</th>\n",
       "      <th>recall</th>\n",
       "      <th>fmeasure</th>\n",
       "      <th>numResult</th>\n",
       "      <th>minScore</th>\n",
       "      <th>topHits</th>\n",
       "    </tr>\n",
       "  </thead>\n",
       "  <tbody>\n",
       "    <tr>\n",
       "      <th>0</th>\n",
       "      <td>0.198395</td>\n",
       "      <td>0.20568</td>\n",
       "      <td>0.201972</td>\n",
       "      <td>20</td>\n",
       "      <td>2</td>\n",
       "      <td>1</td>\n",
       "    </tr>\n",
       "  </tbody>\n",
       "</table>\n",
       "</div>"
      ],
      "text/plain": [
       "   precision   recall  fmeasure  numResult  minScore  topHits\n",
       "0   0.198395  0.20568  0.201972         20         2        1"
      ]
     },
     "execution_count": 26,
     "metadata": {},
     "output_type": "execute_result"
    }
   ],
   "source": [
    "scores"
   ]
  },
  {
   "cell_type": "code",
   "execution_count": 24,
   "metadata": {
    "collapsed": false
   },
   "outputs": [
    {
     "data": {
      "text/plain": [
       "4956"
      ]
     },
     "execution_count": 24,
     "metadata": {},
     "output_type": "execute_result"
    }
   ],
   "source": [
    "len(misses)"
   ]
  },
  {
   "cell_type": "code",
   "execution_count": 23,
   "metadata": {
    "collapsed": false
   },
   "outputs": [
    {
     "data": {
      "text/plain": [
       "572"
      ]
     },
     "execution_count": 23,
     "metadata": {},
     "output_type": "execute_result"
    }
   ],
   "source": [
    "len(hits)"
   ]
  },
  {
   "cell_type": "code",
   "execution_count": null,
   "metadata": {
    "collapsed": true
   },
   "outputs": [],
   "source": []
  }
 ],
 "metadata": {
  "kernelspec": {
   "display_name": "Python 2",
   "language": "python",
   "name": "python2"
  },
  "language_info": {
   "codemirror_mode": {
    "name": "ipython",
    "version": 2
   },
   "file_extension": ".py",
   "mimetype": "text/x-python",
   "name": "python",
   "nbconvert_exporter": "python",
   "pygments_lexer": "ipython2",
   "version": "2.7.10"
  }
 },
 "nbformat": 4,
 "nbformat_minor": 0
}
